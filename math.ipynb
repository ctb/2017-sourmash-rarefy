{
 "cells": [
  {
   "cell_type": "markdown",
   "metadata": {},
   "source": [
    "1. Take all *possible* words in the alphabet in an ordered set $S$\n",
    "2. Shuffle $S$ into $S_R$ deterministically, with a  specific hash function.\n",
    "3. Choose a scaling factor $B$, the subsampling rate.\n",
    "4. Select a \"band\" of hash space $B / |S|$ in size, $S_B$.\n",
    "5. To subsample, intersect any sample with $S_B$.\n",
    "\n",
    "(Steps 1 and 2 are the same as the MinHash approach.)"
   ]
  },
  {
   "cell_type": "markdown",
   "metadata": {},
   "source": [
    "Similarity between two word collections $M, N$:\n",
    "\n",
    "subsample: $M_B = M \\cap S_B, N_B = N \\cap S_B$\n",
    "\n",
    "then: ${\\rm sim}(M, N) = \\frac{| M_B \\cap N_B |} {| M_B \\cup N_B |}$\n",
    "\n",
    "(This is the Jaccard similarity, and it is a distance metric.)\n",
    "\n",
    "Containment of $M$ by $N$ is then:\n",
    "\n",
    "${\\rm cont}(M, N) = \\frac{| M_B \\cap N_B |}{| M_B |}$"
   ]
  },
  {
   "cell_type": "markdown",
   "metadata": {},
   "source": [
    "# PMI\n",
    "\n",
    "Pointwise Mutual Information:\n",
    "\n",
    "${\\rm pmi}(X:Y) = \\log{\\frac{p(X, Y)}{p(X)p(Y)}}$\n",
    "\n",
    "* $N$ samples;\n",
    "* $N_X$ is the # of samples containing word X;\n",
    "* $N_{XY}$ is the number of samples containing both  X and Y;\n",
    "* observed frequencies:\n",
    "    * $f_{XY} = \\frac{N_{XY}}{N}$\n",
    "    * $f_X = \\frac{N_X}{N}$.\n",
    "\n",
    "then an estimate of ${\\rm pmi(X:Y)}$ is:\n",
    "\n",
    "${\\rm pmi}(X:Y) \\approx \\log{\\frac{f_{XY}}{f_X f_Y}} = \\log{\\frac{N N_{XY}}{N_X N_Y}}$"
   ]
  },
  {
   "cell_type": "markdown",
   "metadata": {},
   "source": [
    "We can define normalized pmi as ${\\rm npmi}(X:Y) \\approx \\frac{pmi(X:Y}{\\log{f_{XY}}}$.\n",
    "\n",
    "The range for npmi is [-1.0, 1.0].\n",
    "\n",
    "(perfectly anticorrelated to perfectly correlated)\n",
    "\n",
    "Weighted PMI weights by number of shared samples: $N_{XY} {\\rm npmi}(X:Y)$ "
   ]
  },
  {
   "cell_type": "code",
   "execution_count": null,
   "metadata": {},
   "outputs": [],
   "source": []
  }
 ],
 "metadata": {
  "kernelspec": {
   "display_name": "Python 3",
   "language": "python",
   "name": "python3"
  },
  "language_info": {
   "codemirror_mode": {
    "name": "ipython",
    "version": 3
   },
   "file_extension": ".py",
   "mimetype": "text/x-python",
   "name": "python",
   "nbconvert_exporter": "python",
   "pygments_lexer": "ipython3",
   "version": "3.6.3"
  }
 },
 "nbformat": 4,
 "nbformat_minor": 2
}
